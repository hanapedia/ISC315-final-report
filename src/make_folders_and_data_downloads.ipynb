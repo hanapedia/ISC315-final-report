{
 "cells": [
  {
   "cell_type": "markdown",
   "metadata": {
    "id": "lTTB5utXudlv"
   },
   "source": [
    "# 最終課題　準備ファイル\n",
    "## 231060 花田浩紀\n",
    "\n",
    "- 本ファイルでは、実行ファイルで用いるデータとフォルダの準備を行います。"
   ]
  },
  {
   "cell_type": "code",
   "execution_count": 3,
   "metadata": {
    "id": "0HnqsteVudlz"
   },
   "outputs": [],
   "source": [
    "import os\n",
    "import zipfile\n",
    "import PIL\n",
    "from kaggle import KaggleApi"
   ]
  },
  {
   "cell_type": "markdown",
   "metadata": {},
   "source": [
    "### Kaggleからデータをダウンロード"
   ]
  },
  {
   "cell_type": "code",
   "execution_count": null,
   "metadata": {},
   "outputs": [],
   "source": [
    "# KaggleのusernameとAPIkeyを環境変数に設定\n",
    "# os.environ(KAGGLE_USERNAME) = '<your username>'\n",
    "# os.environ(KAGGLE_KEY) = '<your apikey>'\n",
    "\n",
    "# 本課題ではdocker-compose内で環境変数を定義している\n",
    "\n",
    "from kaggle import KaggleApi\n",
    "api = KaggleApi()\n",
    "api.authenticate()"
   ]
  },
  {
   "cell_type": "code",
   "execution_count": 7,
   "metadata": {},
   "outputs": [],
   "source": [
    "# 抽象画データセットをダウンロード\n",
    "api.dataset_download_files('bryanb/abstract-art-gallery', path=\".\")"
   ]
  },
  {
   "cell_type": "code",
   "execution_count": 8,
   "metadata": {
    "id": "GodJF_jbudl0"
   },
   "outputs": [],
   "source": [
    "# フォルダ「data」が存在しない場合は作成する\n",
    "data_dir = \"./data/\"\n",
    "if not os.path.exists(data_dir):\n",
    "    os.mkdir(data_dir)"
   ]
  },
  {
   "cell_type": "code",
   "execution_count": 10,
   "metadata": {},
   "outputs": [],
   "source": [
    "# 抽象画データセットをdataフォルダに解凍\n",
    "import zipfile\n",
    "with zipfile.ZipFile('./abstract-art-gallery.zip', 'r') as zip_ref:\n",
    "    zip_ref.extractall('./data/')"
   ]
  },
  {
   "cell_type": "markdown",
   "metadata": {},
   "source": [
    "使う画像数を変更する場合はここから実行"
   ]
  },
  {
   "cell_type": "code",
   "execution_count": 20,
   "metadata": {},
   "outputs": [],
   "source": [
    "!rm -rf ./data/img_ab_art"
   ]
  },
  {
   "cell_type": "code",
   "execution_count": 21,
   "metadata": {
    "id": "j3fHck2kudl5"
   },
   "outputs": [],
   "source": [
    "# フォルダ「data」の下にフォルダ「img_ab_art」を作成する\n",
    "data_dir_path = \"./data/img_ab_art/\"\n",
    "if not os.path.exists(data_dir_path):\n",
    "    os.mkdir(data_dir_path)"
   ]
  },
  {
   "cell_type": "code",
   "execution_count": 22,
   "metadata": {},
   "outputs": [],
   "source": [
    "import os\n",
    "from PIL import Image\n",
    "\n",
    "max_num = 800 #400枚の画像を使用\n",
    "# ./data/Abstract_gallery/Abstract_gallery/ 2000 images\n",
    "# ./data/Abstract_gallery_2/Abstract_gallery_2/ 100 images\n",
    "src_directory = './data/Abstract_gallery/Abstract_gallery/'\n",
    "dst_directory = './data/img_ab_art/'\n",
    "\n",
    "for idx, filename in enumerate(os.listdir(src_directory)):\n",
    "    if idx == max_num:\n",
    "        break\n",
    "    \n",
    "    img = Image.open(os.path.join(src_directory, filename))\n",
    "    img = img.resize((64,64), Image.Resampling.BICUBIC) #64 x 64にリサイズ\n",
    "    img.save(os.path.join(dst_directory, filename))\n",
    "    "
   ]
  },
  {
   "cell_type": "markdown",
   "metadata": {
    "id": "--TWdLCBudl6"
   },
   "source": [
    "以上"
   ]
  }
 ],
 "metadata": {
  "colab": {
   "collapsed_sections": [],
   "name": "make_folders_and_data_downloads.ipynb",
   "provenance": []
  },
  "kernelspec": {
   "display_name": "Python 3 (ipykernel)",
   "language": "python",
   "name": "python3"
  },
  "language_info": {
   "codemirror_mode": {
    "name": "ipython",
    "version": 3
   },
   "file_extension": ".py",
   "mimetype": "text/x-python",
   "name": "python",
   "nbconvert_exporter": "python",
   "pygments_lexer": "ipython3",
   "version": "3.10.4"
  }
 },
 "nbformat": 4,
 "nbformat_minor": 4
}
